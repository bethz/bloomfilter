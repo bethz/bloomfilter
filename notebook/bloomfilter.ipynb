{
 "cells": [
  {
   "cell_type": "markdown",
   "metadata": {},
   "source": [
    "# bloomfilter.ipynb\n",
    "\n",
    " This implements a Bloom filter based spell checker in python.\n",
    "\n",
    " Bloom filters are interesting because they are a very space efficient way\n",
    " to find if an element is a member of a set when the set can be quite large.\n",
    "\n",
    " False positives are possible but false negatives are not. Bloom Filters\n",
    " are explained [here](https://en.wikipedia.org/wiki/Bloom_filter).\n",
    "\n",
    "\n",
    " Basic functions:\n",
    " \n",
    "  - add strings in a dictionary to the Bloom filter\n",
    "  - query the Bloom filter for search strings:\n",
    "             - some are known to be in the Bloom filter\n",
    "             - some are known NOT to be in the Bloom filter\n",
    " This Bloom filter example uses an input file with ISO-8859-1, Latin-1.\n",
    " All strings are converted to utf-8 so that it will work with most input\n",
    " string types.\n",
    "\n",
    " Also, strings are terminated with \\n on input.  It was decided that\n",
    " stripping off the \\n was not worth time or effort so \\n is included\n",
    " in the string.\n"
   ]
  },
  {
   "cell_type": "code",
   "execution_count": 1,
   "metadata": {},
   "outputs": [],
   "source": [
    "from bitarray import bitarray"
   ]
  },
  {
   "cell_type": "code",
   "execution_count": 2,
   "metadata": {},
   "outputs": [],
   "source": [
    "class BloomFilter():\n",
    "    \"\"\"\n",
    "    A hash function takes input and outputs a unique identifier of fixed\n",
    "    length which is used for identification of input.\n",
    "\n",
    "    \"\"\"\n",
    "\n",
    "    def __init__(self, size):\n",
    "        \"\"\"\n",
    "        Init the Bloomfilter\n",
    "        Arguments:\n",
    "        size - size of the bitarray\n",
    "\n",
    "        Return:\n",
    "        Ref to Bloomfilter\n",
    "        \"\"\"\n",
    "\n",
    "        self.bit_array = bitarray(size)\n",
    "        self.n = size\n",
    "        # initialize to zero\n",
    "        self.bit_array.setall(0)\n",
    "        \n",
    "    def insert(self, line, bf_size):\n",
    "        \"\"\"\n",
    "        Insert into BloomFilter according to hashes\n",
    "        Arguments:\n",
    "        line - entry for bloomfilter\n",
    "        bf_size    - size of the bloomfilter, num bits\n",
    "\n",
    "        Return:\n",
    "        index1 - first hash\n",
    "        index2 - second hash\n",
    "        \"\"\"\n",
    "\n",
    "        # mod to size of bitarray\n",
    "        index1 = mmh3.hash((line.encode('utf-8')), 1) % bf_size\n",
    "        self.bit_array[index1] = 1\n",
    "        index2 = mmh3.hash((line.encode('utf-8')), 3) % bf_size\n",
    "        self.bit_array[index2] = 1\n",
    "        return index1, index2\n"
   ]
  },
  {
   "cell_type": "code",
   "execution_count": 3,
   "metadata": {},
   "outputs": [],
   "source": [
    "dbg = False\n",
    "items_in_filter = 100\n",
    "#false negative probability\n",
    "fn_prob = .10 # 10 %"
   ]
  },
  {
   "cell_type": "code",
   "execution_count": 4,
   "metadata": {},
   "outputs": [],
   "source": [
    "word_list = ['A','Aasia','As','AA','AAs','AAA','AAM','AB','ABs','ABA','ABC','ABCs','ABCs','ABD','ABDs','ABM','ABMs','ABMs','ABS','AC','ACs','ACLU','ACT','ACTH','ACTHs','AD','ADs','ADC','ADD','ADP','ADPs','ADR','ADRs','AEC','AECs','AF','AFAIK','AFAIKs','AFB','AFC','AFDC','AFN','AFT','AGC','AHQ','AI','AIs','AIDS','AIDSs','AIDSes','AIs','AK','AL','ALGOL','ALGOLs','ALU','AM','AMs','AMA','AMP','AMPs','AND','ANSI','ANSIs','ANTU','ANZUS','AOL','AOLs','AP','APB','APC','APCs','APO','APR','AQ','AR','ARC','AS','ASAP','ASAT','ASCII','ASCIIs','ASCIIs','ASDIC','ASL','ASLs','ASPCA','ASSR','ATC','ATM','ATMs','ATP','ATPs','ATPase','ATPases','ATS','ATV','ATVs','AV','AWACS']"
   ]
  },
  {
   "cell_type": "code",
   "execution_count": 5,
   "metadata": {},
   "outputs": [
    {
     "data": {
      "text/plain": [
       "['A', 'Aasia', 'As', 'AA', 'AAs', 'AAA', 'AAM', 'AB', 'ABs', 'ABA']"
      ]
     },
     "execution_count": 5,
     "metadata": {},
     "output_type": "execute_result"
    }
   ],
   "source": [
    "word_list[:10]"
   ]
  },
  {
   "cell_type": "code",
   "execution_count": 6,
   "metadata": {},
   "outputs": [],
   "source": [
    "search_list = ['A','B','ASL','zzz']"
   ]
  },
  {
   "cell_type": "code",
   "execution_count": 7,
   "metadata": {},
   "outputs": [
    {
     "name": "stdout",
     "output_type": "stream",
     "text": [
      "A bloomfilter with 100 dictionary items requires 479 bitarray bits and 3 hash functions\n"
     ]
    }
   ],
   "source": [
    "from math import log\n",
    "n = items_in_filter\n",
    "ln2 = log(2)  # no base means natural ln\n",
    "m = int((-n * log(fn_prob)) / (ln2) ** 2)\n",
    "k = (m/n) * ln2\n",
    "# the number of hash functions is rounded up\n",
    "num_hash = int(k+.5)\n",
    "print ('A bloomfilter with {} dictionary items requires {} bitarray bits and {} hash functions'.format(n,m,num_hash))\n",
    "bitarray_size = m\n",
    " "
   ]
  },
  {
   "cell_type": "code",
   "execution_count": 8,
   "metadata": {},
   "outputs": [
    {
     "name": "stdout",
     "output_type": "stream",
     "text": [
      "bitarray('00000000000000000000000000000000000000000000000000000000000000000000000000000000000000000000000000000000000000000000000000000000000000000000000000000000000000000000000000000000000000000000000000000000000000000000000000000000000000000000000000000000000000000000000000000000000000000000000000000000000000000000000000000000000000000000000000000000000000000000000000000000000000000000000000000000000000000000000000000000000000000000000000000000000000000000000000000000000000000000000')\n"
     ]
    }
   ],
   "source": [
    "from bitarray import bitarray\n",
    "bf = BloomFilter(bitarray_size)\n",
    "print(bf.bit_array)"
   ]
  },
  {
   "cell_type": "code",
   "execution_count": 9,
   "metadata": {},
   "outputs": [
    {
     "name": "stdout",
     "output_type": "stream",
     "text": [
      "bitarray('11101010100100111101010010110010110111100101010010110001000010001110111011100101000010001011010100011101001101000110010000101100000000101010011001000010010001001101100110001100011010010001011011010011101001100010010001111101001110001111110100100101001100110000101111111110100101000111100000010000100000010010110000001100011111000001010111101010100000110010001010111010110001001011101010111101000111100011001000100100110001000101101010110001001101011100010111101001110100010011101')\n"
     ]
    }
   ],
   "source": [
    "from bitarray import bitarray\n",
    "bf = BloomFilter(bitarray_size)\n",
    "#print(bf.bit_array)\n",
    "\n",
    "for i in word_list:\n",
    "    myhash = hash(i)\n",
    "    # selected 3 variations of the hash that was returned in order to create 3 unique indices\n",
    "    index1 = int(myhash/10000000000) %bitarray_size\n",
    "    index2 = int(myhash/10000) % bitarray_size\n",
    "    index3 = myhash % bitarray_size\n",
    "    bf.bit_array[index1] = 1\n",
    "    bf.bit_array[index2] = 1\n",
    "    bf.bit_array[index3] = 1\n",
    "\n",
    "    if dbg:\n",
    "            print(bf.bit_array)\n",
    "            print(myhash, index1)\n",
    "            print(myhash, index2)\n",
    "            print(myhash, index3)\n",
    "            print(' ')\n",
    "        \n",
    "print(bf.bit_array)"
   ]
  },
  {
   "cell_type": "code",
   "execution_count": 10,
   "metadata": {},
   "outputs": [
    {
     "name": "stdout",
     "output_type": "stream",
     "text": [
      "A was found\n",
      "B was not found\n",
      "ASL was found\n",
      "zzz was not found\n"
     ]
    }
   ],
   "source": [
    "# look for words in search_list in the bf\n",
    "for i in search_list:\n",
    "    myhash = hash(i)\n",
    "    index1 = int(myhash/10000000000) %bitarray_size\n",
    "    index2 = int(myhash/10000) % bitarray_size\n",
    "    index3 = myhash % bitarray_size  \n",
    "    if bf.bit_array[index1] == 0 or bf.bit_array[index2] == 0 or bf.bit_array[index3] == 0:\n",
    "        print('{} was not found'.format(i))\n",
    "    else:\n",
    "        print('{} was found'.format(i))"
   ]
  },
  {
   "cell_type": "code",
   "execution_count": 11,
   "metadata": {},
   "outputs": [
    {
     "name": "stdout",
     "output_type": "stream",
     "text": [
      "['A', 'Aasia', 'As', 'AA', 'AAs', 'AAA', 'AAM', 'AB', 'ABs', 'ABA', 'ABC', 'ABCs', 'ABCs', 'ABD', 'ABDs', 'ABM', 'ABMs', 'ABMs', 'ABS', 'AC', 'ACs', 'ACLU', 'ACT', 'ACTH', 'ACTHs', 'AD', 'ADs', 'ADC', 'ADD', 'ADP', 'ADPs', 'ADR', 'ADRs', 'AEC', 'AECs', 'AF', 'AFAIK', 'AFAIKs', 'AFB', 'AFC', 'AFDC', 'AFN', 'AFT', 'AGC', 'AHQ', 'AI', 'AIs', 'AIDS', 'AIDSs', 'AIDSes', 'AIs', 'AK', 'AL', 'ALGOL', 'ALGOLs', 'ALU', 'AM', 'AMs', 'AMA', 'AMP', 'AMPs', 'AND', 'ANSI', 'ANSIs', 'ANTU', 'ANZUS', 'AOL', 'AOLs', 'AP', 'APB', 'APC', 'APCs', 'APO', 'APR', 'AQ', 'AR', 'ARC', 'AS', 'ASAP', 'ASAT', 'ASCII', 'ASCIIs', 'ASCIIs', 'ASDIC', 'ASL', 'ASLs', 'ASPCA', 'ASSR', 'ATC', 'ATM', 'ATMs', 'ATP', 'ATPs', 'ATPase', 'ATPases', 'ATS', 'ATV', 'ATVs', 'AV', 'AWACS']\n"
     ]
    }
   ],
   "source": [
    "print(word_list)"
   ]
  },
  {
   "cell_type": "code",
   "execution_count": null,
   "metadata": {},
   "outputs": [],
   "source": []
  }
 ],
 "metadata": {
  "kernelspec": {
   "display_name": "Python 3",
   "language": "python",
   "name": "python3"
  },
  "language_info": {
   "codemirror_mode": {
    "name": "ipython",
    "version": 3
   },
   "file_extension": ".py",
   "mimetype": "text/x-python",
   "name": "python",
   "nbconvert_exporter": "python",
   "pygments_lexer": "ipython3",
   "version": "3.7.1"
  }
 },
 "nbformat": 4,
 "nbformat_minor": 2
}
